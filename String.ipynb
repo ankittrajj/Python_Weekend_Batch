{
 "cells": [
  {
   "cell_type": "code",
   "execution_count": 1,
   "id": "2c2ea9d2",
   "metadata": {},
   "outputs": [],
   "source": [
    "#string\n",
    "a = 'hello 123'"
   ]
  },
  {
   "cell_type": "code",
   "execution_count": 2,
   "id": "74e51371",
   "metadata": {},
   "outputs": [
    {
     "name": "stdout",
     "output_type": "stream",
     "text": [
      "hello 123\n"
     ]
    }
   ],
   "source": [
    "print(a)"
   ]
  },
  {
   "cell_type": "code",
   "execution_count": 3,
   "id": "90bace24",
   "metadata": {},
   "outputs": [
    {
     "data": {
      "text/plain": [
       "str"
      ]
     },
     "execution_count": 3,
     "metadata": {},
     "output_type": "execute_result"
    }
   ],
   "source": [
    "type(a)"
   ]
  },
  {
   "cell_type": "code",
   "execution_count": 4,
   "id": "471f2856",
   "metadata": {},
   "outputs": [],
   "source": [
    "a = '1234!@#me & you **!!'"
   ]
  },
  {
   "cell_type": "code",
   "execution_count": 5,
   "id": "7848eb00",
   "metadata": {},
   "outputs": [
    {
     "data": {
      "text/plain": [
       "'1234!@#me & you **!!'"
      ]
     },
     "execution_count": 5,
     "metadata": {},
     "output_type": "execute_result"
    }
   ],
   "source": [
    "a"
   ]
  },
  {
   "cell_type": "code",
   "execution_count": 6,
   "id": "03895311",
   "metadata": {},
   "outputs": [
    {
     "data": {
      "text/plain": [
       "str"
      ]
     },
     "execution_count": 6,
     "metadata": {},
     "output_type": "execute_result"
    }
   ],
   "source": [
    "type(a)"
   ]
  },
  {
   "cell_type": "code",
   "execution_count": 7,
   "id": "189b7247",
   "metadata": {},
   "outputs": [],
   "source": [
    "x = 'manohar'"
   ]
  },
  {
   "cell_type": "code",
   "execution_count": 8,
   "id": "203bae64",
   "metadata": {},
   "outputs": [
    {
     "name": "stdout",
     "output_type": "stream",
     "text": [
      "manohar\n"
     ]
    }
   ],
   "source": [
    "print(x)"
   ]
  },
  {
   "cell_type": "code",
   "execution_count": 10,
   "id": "0d657ad9",
   "metadata": {},
   "outputs": [
    {
     "data": {
      "text/plain": [
       "str"
      ]
     },
     "execution_count": 10,
     "metadata": {},
     "output_type": "execute_result"
    }
   ],
   "source": [
    "type(x)"
   ]
  },
  {
   "cell_type": "code",
   "execution_count": 16,
   "id": "dc463d77",
   "metadata": {},
   "outputs": [
    {
     "name": "stdout",
     "output_type": "stream",
     "text": [
      "-123\n"
     ]
    },
    {
     "data": {
      "text/plain": [
       "int"
      ]
     },
     "execution_count": 16,
     "metadata": {},
     "output_type": "execute_result"
    }
   ],
   "source": [
    "#int\n",
    "#string\n",
    "#boolean \n",
    "#float\n",
    "#complex\n",
    "\n",
    "a = -123\n",
    "print(a)\n",
    "type(a)"
   ]
  },
  {
   "cell_type": "code",
   "execution_count": 19,
   "id": "dc0f3019",
   "metadata": {},
   "outputs": [
    {
     "name": "stdout",
     "output_type": "stream",
     "text": [
      "-22.234589\n"
     ]
    },
    {
     "data": {
      "text/plain": [
       "float"
      ]
     },
     "execution_count": 19,
     "metadata": {},
     "output_type": "execute_result"
    }
   ],
   "source": [
    "# float\n",
    "x = -22.234589\n",
    "print(x)\n",
    "type(x)"
   ]
  },
  {
   "cell_type": "code",
   "execution_count": 20,
   "id": "c4f75491",
   "metadata": {},
   "outputs": [
    {
     "name": "stdout",
     "output_type": "stream",
     "text": [
      "(2+3j)\n"
     ]
    },
    {
     "data": {
      "text/plain": [
       "complex"
      ]
     },
     "execution_count": 20,
     "metadata": {},
     "output_type": "execute_result"
    }
   ],
   "source": [
    "#complex\n",
    "a = 2+3j\n",
    "print(a)\n",
    "type(a)"
   ]
  },
  {
   "cell_type": "code",
   "execution_count": 21,
   "id": "c1d11788",
   "metadata": {},
   "outputs": [
    {
     "name": "stdout",
     "output_type": "stream",
     "text": [
      "5\n"
     ]
    }
   ],
   "source": [
    "#Arithmetic \n",
    "#logical\n",
    "#Assignment\n",
    "#conditional\n",
    "\n",
    "a=5\n",
    "print(a)"
   ]
  },
  {
   "cell_type": "code",
   "execution_count": 22,
   "id": "aaa249e5",
   "metadata": {},
   "outputs": [
    {
     "name": "stdout",
     "output_type": "stream",
     "text": [
      "3\n"
     ]
    }
   ],
   "source": [
    "#Airtmetic Operator\n",
    "# +,-,/,*,%\n",
    "\n",
    "a=1+2\n",
    "print(a)"
   ]
  },
  {
   "cell_type": "code",
   "execution_count": 23,
   "id": "f4824f6f",
   "metadata": {},
   "outputs": [
    {
     "name": "stdout",
     "output_type": "stream",
     "text": [
      "-1\n"
     ]
    }
   ],
   "source": [
    "x = 1-2\n",
    "print(x)"
   ]
  },
  {
   "cell_type": "code",
   "execution_count": 25,
   "id": "6cf0ad94",
   "metadata": {},
   "outputs": [
    {
     "name": "stdout",
     "output_type": "stream",
     "text": [
      "6\n"
     ]
    }
   ],
   "source": [
    "a = 2*3\n",
    "print(a)"
   ]
  },
  {
   "cell_type": "code",
   "execution_count": 27,
   "id": "26d61d73",
   "metadata": {},
   "outputs": [
    {
     "name": "stdout",
     "output_type": "stream",
     "text": [
      "2.5\n"
     ]
    }
   ],
   "source": [
    "s = 5/2\n",
    "print(s)"
   ]
  },
  {
   "cell_type": "code",
   "execution_count": 28,
   "id": "eb9a572e",
   "metadata": {},
   "outputs": [
    {
     "name": "stdout",
     "output_type": "stream",
     "text": [
      "1\n"
     ]
    }
   ],
   "source": [
    "# modulus\n",
    "x = (5%2)\n",
    "print(x)"
   ]
  },
  {
   "cell_type": "code",
   "execution_count": 39,
   "id": "814692f1",
   "metadata": {},
   "outputs": [
    {
     "name": "stdout",
     "output_type": "stream",
     "text": [
      "you can't vote\n"
     ]
    }
   ],
   "source": [
    "#condition\n",
    "age=61\n",
    "if(age>18 and age<60):\n",
    "    print(\"you can vote\")\n",
    "else:\n",
    "    print(\"you can't vote\")\n"
   ]
  },
  {
   "cell_type": "code",
   "execution_count": 40,
   "id": "16530cc7",
   "metadata": {},
   "outputs": [
    {
     "name": "stdout",
     "output_type": "stream",
     "text": [
      "you can vote\n"
     ]
    }
   ],
   "source": [
    "#condition\n",
    "age=18\n",
    "if(age==18):\n",
    "    print(\"you can vote\")\n",
    "else:\n",
    "    print(\"you can't vote\")\n"
   ]
  },
  {
   "cell_type": "code",
   "execution_count": 3,
   "id": "9ccb26d2",
   "metadata": {},
   "outputs": [
    {
     "name": "stdout",
     "output_type": "stream",
     "text": [
      "Enter your nameabc\n",
      "abc\n"
     ]
    }
   ],
   "source": [
    "#user input\n",
    "a= input(\"Enter your name\")\n",
    "print(a)"
   ]
  },
  {
   "cell_type": "code",
   "execution_count": 4,
   "id": "2f21b0a7",
   "metadata": {
    "scrolled": true
   },
   "outputs": [
    {
     "name": "stdout",
     "output_type": "stream",
     "text": [
      "Enter the number123\n",
      "123\n"
     ]
    }
   ],
   "source": [
    "x = input(\"Enter the number\")\n",
    "print(x)"
   ]
  },
  {
   "cell_type": "code",
   "execution_count": 7,
   "id": "93d1ed55",
   "metadata": {},
   "outputs": [
    {
     "name": "stdout",
     "output_type": "stream",
     "text": [
      "enter the num2\n",
      "net th n3\n",
      "5\n"
     ]
    }
   ],
   "source": [
    "a = int(input(\"enter the num\"))\n",
    "b = int(input('net th n'))\n",
    "c = a+b\n",
    "print(c)"
   ]
  },
  {
   "cell_type": "code",
   "execution_count": 8,
   "id": "7e7acf4b",
   "metadata": {},
   "outputs": [
    {
     "name": "stdout",
     "output_type": "stream",
     "text": [
      "enter the numa\n",
      "enter the numx\n",
      "ax\n"
     ]
    }
   ],
   "source": [
    "a = input(\"enter the num\")\n",
    "b = input('enter the num')\n",
    "c = a+b\n",
    "print(c)"
   ]
  },
  {
   "cell_type": "code",
   "execution_count": 9,
   "id": "35348f31",
   "metadata": {},
   "outputs": [
    {
     "name": "stdout",
     "output_type": "stream",
     "text": [
      "enter the num2\n",
      "enter the numa\n",
      "2a\n"
     ]
    }
   ],
   "source": [
    "a = input(\"enter the num\")\n",
    "b = input('enter the num')\n",
    "c = a+b\n",
    "print(c)"
   ]
  },
  {
   "cell_type": "code",
   "execution_count": 10,
   "id": "c72f740a",
   "metadata": {},
   "outputs": [
    {
     "name": "stdout",
     "output_type": "stream",
     "text": [
      "7\n"
     ]
    }
   ],
   "source": [
    "print(5+2)"
   ]
  },
  {
   "cell_type": "code",
   "execution_count": 11,
   "id": "c810be4c",
   "metadata": {},
   "outputs": [
    {
     "name": "stdout",
     "output_type": "stream",
     "text": [
      "52\n"
     ]
    }
   ],
   "source": [
    "print('5'+'2')"
   ]
  },
  {
   "cell_type": "code",
   "execution_count": 12,
   "id": "fec2f29e",
   "metadata": {},
   "outputs": [
    {
     "ename": "TypeError",
     "evalue": "can only concatenate str (not \"int\") to str",
     "output_type": "error",
     "traceback": [
      "\u001b[1;31m---------------------------------------------------------------------------\u001b[0m",
      "\u001b[1;31mTypeError\u001b[0m                                 Traceback (most recent call last)",
      "\u001b[1;32m<ipython-input-12-47e920d24ad4>\u001b[0m in \u001b[0;36m<module>\u001b[1;34m\u001b[0m\n\u001b[1;32m----> 1\u001b[1;33m \u001b[0mprint\u001b[0m\u001b[1;33m(\u001b[0m\u001b[1;34m'5'\u001b[0m\u001b[1;33m+\u001b[0m\u001b[1;36m2\u001b[0m\u001b[1;33m)\u001b[0m\u001b[1;33m\u001b[0m\u001b[1;33m\u001b[0m\u001b[0m\n\u001b[0m",
      "\u001b[1;31mTypeError\u001b[0m: can only concatenate str (not \"int\") to str"
     ]
    }
   ],
   "source": [
    "print('5'+2)"
   ]
  },
  {
   "cell_type": "code",
   "execution_count": 16,
   "id": "47bbb5f5",
   "metadata": {},
   "outputs": [
    {
     "name": "stdout",
     "output_type": "stream",
     "text": [
      "enter the numa\n",
      "enter the num5\n"
     ]
    },
    {
     "ename": "TypeError",
     "evalue": "can only concatenate str (not \"int\") to str",
     "output_type": "error",
     "traceback": [
      "\u001b[1;31m---------------------------------------------------------------------------\u001b[0m",
      "\u001b[1;31mTypeError\u001b[0m                                 Traceback (most recent call last)",
      "\u001b[1;32m<ipython-input-16-e83285f940ac>\u001b[0m in \u001b[0;36m<module>\u001b[1;34m\u001b[0m\n\u001b[0;32m      1\u001b[0m \u001b[0ma\u001b[0m \u001b[1;33m=\u001b[0m \u001b[1;33m(\u001b[0m\u001b[0minput\u001b[0m\u001b[1;33m(\u001b[0m\u001b[1;34m\"enter the num\"\u001b[0m\u001b[1;33m)\u001b[0m\u001b[1;33m)\u001b[0m\u001b[1;33m\u001b[0m\u001b[1;33m\u001b[0m\u001b[0m\n\u001b[0;32m      2\u001b[0m \u001b[0mb\u001b[0m \u001b[1;33m=\u001b[0m \u001b[0mint\u001b[0m\u001b[1;33m(\u001b[0m\u001b[0minput\u001b[0m\u001b[1;33m(\u001b[0m\u001b[1;34m'enter the num'\u001b[0m\u001b[1;33m)\u001b[0m\u001b[1;33m)\u001b[0m\u001b[1;33m\u001b[0m\u001b[1;33m\u001b[0m\u001b[0m\n\u001b[1;32m----> 3\u001b[1;33m \u001b[0mc\u001b[0m \u001b[1;33m=\u001b[0m \u001b[0ma\u001b[0m\u001b[1;33m+\u001b[0m\u001b[0mb\u001b[0m\u001b[1;33m\u001b[0m\u001b[1;33m\u001b[0m\u001b[0m\n\u001b[0m\u001b[0;32m      4\u001b[0m \u001b[0mprint\u001b[0m\u001b[1;33m(\u001b[0m\u001b[0mc\u001b[0m\u001b[1;33m)\u001b[0m\u001b[1;33m\u001b[0m\u001b[1;33m\u001b[0m\u001b[0m\n",
      "\u001b[1;31mTypeError\u001b[0m: can only concatenate str (not \"int\") to str"
     ]
    }
   ],
   "source": [
    "a = (input(\"enter the num\"))\n",
    "b = int(input('enter the num'))\n",
    "c = a+b\n",
    "print(c)"
   ]
  },
  {
   "cell_type": "code",
   "execution_count": 20,
   "id": "65b6b0d2",
   "metadata": {},
   "outputs": [
    {
     "name": "stdout",
     "output_type": "stream",
     "text": [
      "milk\n"
     ]
    }
   ],
   "source": [
    "a = 6\n",
    "if a>=6:\n",
    "    print(\"milk\")\n",
    "else:\n",
    "    print('tea')"
   ]
  },
  {
   "cell_type": "code",
   "execution_count": 22,
   "id": "b9cafcba",
   "metadata": {},
   "outputs": [
    {
     "name": "stdout",
     "output_type": "stream",
     "text": [
      "enter the num1\n",
      "enter the num2\n",
      "enter the num3\n",
      "2.0\n"
     ]
    }
   ],
   "source": [
    "# WAP to find the average of 5 numbers entred by the \n",
    "# user\n",
    "a = int(input(\"enter the num\"))\n",
    "b = int(input(\"enter the num\"))\n",
    "c = int(input(\"enter the num\"))\n",
    "x = (a+b+c)/3\n",
    "print(x)\n",
    "\n"
   ]
  },
  {
   "cell_type": "code",
   "execution_count": 23,
   "id": "682edb27",
   "metadata": {},
   "outputs": [
    {
     "name": "stdout",
     "output_type": "stream",
     "text": [
      "enter the number1\n"
     ]
    },
    {
     "ename": "TypeError",
     "evalue": "cannot unpack non-iterable int object",
     "output_type": "error",
     "traceback": [
      "\u001b[1;31m---------------------------------------------------------------------------\u001b[0m",
      "\u001b[1;31mTypeError\u001b[0m                                 Traceback (most recent call last)",
      "\u001b[1;32m<ipython-input-23-2c885f2ef039>\u001b[0m in \u001b[0;36m<module>\u001b[1;34m\u001b[0m\n\u001b[1;32m----> 1\u001b[1;33m \u001b[0ma\u001b[0m\u001b[1;33m,\u001b[0m\u001b[0mb\u001b[0m\u001b[1;33m,\u001b[0m\u001b[0mc\u001b[0m \u001b[1;33m=\u001b[0m \u001b[0mint\u001b[0m\u001b[1;33m(\u001b[0m\u001b[0minput\u001b[0m\u001b[1;33m(\u001b[0m\u001b[1;34m\"enter the number\"\u001b[0m\u001b[1;33m)\u001b[0m\u001b[1;33m)\u001b[0m\u001b[1;33m\u001b[0m\u001b[1;33m\u001b[0m\u001b[0m\n\u001b[0m",
      "\u001b[1;31mTypeError\u001b[0m: cannot unpack non-iterable int object"
     ]
    }
   ],
   "source": [
    "a,b,c = int(input(\"enter the number\")"
   ]
  },
  {
   "cell_type": "code",
   "execution_count": 29,
   "id": "b02ebd79",
   "metadata": {},
   "outputs": [
    {
     "name": "stdout",
     "output_type": "stream",
     "text": [
      "Enter the num2\n",
      "Area of cirle is ----> 12.56\n",
      "Area of square is -----> 4\n"
     ]
    }
   ],
   "source": [
    "#WAP and find area of \n",
    "# circle & square with \n",
    "# the user input\n",
    "x = int(input(\"Enter the num\"))\n",
    "a = 3.14*x*x\n",
    "b = x*x\n",
    "print(\"Area of cirle is ---->\",a)\n",
    "print(\"Area of square is ----->\",b)"
   ]
  },
  {
   "cell_type": "code",
   "execution_count": 31,
   "id": "4f93b930",
   "metadata": {},
   "outputs": [
    {
     "name": "stdout",
     "output_type": "stream",
     "text": [
      "First num1\n",
      "First num2\n",
      "First num3\n",
      "C\n"
     ]
    }
   ],
   "source": [
    "#Find the max. of 3 numbers \n",
    "# enterd by the users\n",
    "a = int(input(\"First num\"))\n",
    "b = int(input(\"First num\"))\n",
    "c = int(input(\"First num\"))\n",
    "if (a>b):\n",
    "    print(\"A\")\n",
    "elif(b>c):\n",
    "    print(\"B\")\n",
    "else:\n",
    "    print('C')"
   ]
  },
  {
   "cell_type": "code",
   "execution_count": 32,
   "id": "3821b96c",
   "metadata": {},
   "outputs": [
    {
     "name": "stdout",
     "output_type": "stream",
     "text": [
      "First num100\n",
      "First num200\n",
      "First num300\n",
      "A\n"
     ]
    }
   ],
   "source": [
    "#Find the min. of 3 numbers \n",
    "# enterd by the users\n",
    "a = int(input(\"First num\"))\n",
    "b = int(input(\"First num\"))\n",
    "c = int(input(\"First num\"))\n",
    "if (a<b):\n",
    "    print(\"A\")\n",
    "elif(b<c):\n",
    "    print(\"B\")\n",
    "else:\n",
    "    print('C')"
   ]
  },
  {
   "cell_type": "code",
   "execution_count": 36,
   "id": "7c3dc7a1",
   "metadata": {},
   "outputs": [
    {
     "name": "stdout",
     "output_type": "stream",
     "text": [
      "No of Class 100\n",
      "class attend74\n",
      "74.0\n",
      "Not allowed\n"
     ]
    }
   ],
   "source": [
    "no_of_classes = int(input(\"No of Class\"))\n",
    "class_attend = int(input(\"class attend\"))\n",
    "result = (class_attend/no_of_classes)*100\n",
    "print(result)\n",
    "if result<75:\n",
    "    print(\"Not allowed\")\n",
    "else:\n",
    "    print(\"Allowed\")"
   ]
  },
  {
   "cell_type": "code",
   "execution_count": null,
   "id": "d1020796",
   "metadata": {},
   "outputs": [],
   "source": []
  }
 ],
 "metadata": {
  "kernelspec": {
   "display_name": "Python 3",
   "language": "python",
   "name": "python3"
  },
  "language_info": {
   "codemirror_mode": {
    "name": "ipython",
    "version": 3
   },
   "file_extension": ".py",
   "mimetype": "text/x-python",
   "name": "python",
   "nbconvert_exporter": "python",
   "pygments_lexer": "ipython3",
   "version": "3.8.8"
  }
 },
 "nbformat": 4,
 "nbformat_minor": 5
}
