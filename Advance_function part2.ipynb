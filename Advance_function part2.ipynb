{
 "cells": [
  {
   "cell_type": "code",
   "execution_count": 2,
   "id": "2430a68b",
   "metadata": {},
   "outputs": [
    {
     "data": {
      "text/plain": [
       "<__main__.std at 0x242f4a03910>"
      ]
     },
     "execution_count": 2,
     "metadata": {},
     "output_type": "execute_result"
    }
   ],
   "source": [
    "# How to create a Class using pass/none in Python?\n",
    "# •How to create and call Method of a Class in Python? \n",
    "# •How to use the init  method to assign values to data attributes in Python? \n",
    "# • How to update Object properties in Python?\n",
    "\n",
    "\n",
    "class std:\n",
    "    None\n",
    "\n",
    "std()"
   ]
  },
  {
   "cell_type": "code",
   "execution_count": 4,
   "id": "e04c423b",
   "metadata": {},
   "outputs": [
    {
     "name": "stdout",
     "output_type": "stream",
     "text": [
      "2\n"
     ]
    }
   ],
   "source": [
    "class std:\n",
    "    def fun(self,a):\n",
    "        print(a)\n",
    "        \n",
    "x = std()\n",
    "x.fun(2)"
   ]
  },
  {
   "cell_type": "code",
   "execution_count": 6,
   "id": "7217ff10",
   "metadata": {},
   "outputs": [
    {
     "data": {
      "text/plain": [
       "'Deepak'"
      ]
     },
     "execution_count": 6,
     "metadata": {},
     "output_type": "execute_result"
    }
   ],
   "source": [
    "class std:\n",
    "    def __init__(self,name):\n",
    "        self.name = name\n",
    "        \n",
    "s = std('Deepak')\n",
    "s.name"
   ]
  },
  {
   "cell_type": "code",
   "execution_count": 8,
   "id": "24381d65",
   "metadata": {},
   "outputs": [
    {
     "name": "stdout",
     "output_type": "stream",
     "text": [
      "Deepak\n"
     ]
    },
    {
     "data": {
      "text/plain": [
       "24"
      ]
     },
     "execution_count": 8,
     "metadata": {},
     "output_type": "execute_result"
    }
   ],
   "source": [
    "class std:\n",
    "    def __init__(self,name,age):\n",
    "        self.name = name\n",
    "        self.age = age\n",
    "        \n",
    "s = std('Deepak',24)\n",
    "print(s.name)\n",
    "s.age"
   ]
  },
  {
   "cell_type": "code",
   "execution_count": 9,
   "id": "2ca4c6a1",
   "metadata": {},
   "outputs": [
    {
     "data": {
      "text/plain": [
       "3"
      ]
     },
     "execution_count": 9,
     "metadata": {},
     "output_type": "execute_result"
    }
   ],
   "source": [
    "def add(a,b):\n",
    "    c = a+b\n",
    "    return c\n",
    "add(1,2)"
   ]
  },
  {
   "cell_type": "code",
   "execution_count": 20,
   "id": "721acf3f",
   "metadata": {},
   "outputs": [
    {
     "data": {
      "text/plain": [
       "3"
      ]
     },
     "execution_count": 20,
     "metadata": {},
     "output_type": "execute_result"
    }
   ],
   "source": [
    "a = lambda x,y:x+y\n",
    "a(1,2)"
   ]
  },
  {
   "cell_type": "code",
   "execution_count": 18,
   "id": "987d9aac",
   "metadata": {},
   "outputs": [
    {
     "name": "stdout",
     "output_type": "stream",
     "text": [
      "2.0\n"
     ]
    }
   ],
   "source": [
    "print(2.0)"
   ]
  },
  {
   "cell_type": "code",
   "execution_count": 21,
   "id": "ae078dc2",
   "metadata": {},
   "outputs": [],
   "source": [
    "#wap to print square & cube of a number with the help of lambda function.\n",
    "\n",
    "\n"
   ]
  },
  {
   "cell_type": "code",
   "execution_count": 25,
   "id": "9d08410e",
   "metadata": {},
   "outputs": [
    {
     "name": "stdout",
     "output_type": "stream",
     "text": [
      "[23, 23, 45, 56, 56, 67, 67, 78, 89]\n"
     ]
    }
   ],
   "source": [
    "# filter function------>\n",
    "x = [23,45,67,89,56,78,67,56,23]\n",
    "x.sort()\n",
    "print(x)"
   ]
  },
  {
   "cell_type": "code",
   "execution_count": 26,
   "id": "4baa3d4a",
   "metadata": {},
   "outputs": [
    {
     "data": {
      "text/plain": [
       "[23, 23, 45, 56, 56, 67, 67, 78, 89]"
      ]
     },
     "execution_count": 26,
     "metadata": {},
     "output_type": "execute_result"
    }
   ],
   "source": [
    "x"
   ]
  },
  {
   "cell_type": "code",
   "execution_count": 39,
   "id": "bc11ac59",
   "metadata": {},
   "outputs": [
    {
     "name": "stdout",
     "output_type": "stream",
     "text": [
      "[67, 89, 56, 78, 67, 56]\n"
     ]
    }
   ],
   "source": [
    "#wap to print the data from the list if you person is having age greater than 50.\n",
    "\n",
    "x = [23,45,67,89,56,78,67,56,23]\n",
    "def age(x):\n",
    "    if x>50:\n",
    "        return True\n",
    "    else:\n",
    "        return False\n",
    "    \n",
    "\n",
    "f = list(filter(age,x))\n",
    "print(f)"
   ]
  },
  {
   "cell_type": "code",
   "execution_count": 45,
   "id": "e6550bb7",
   "metadata": {},
   "outputs": [
    {
     "name": "stdout",
     "output_type": "stream",
     "text": [
      "[67, 89, 56, 78, 67, 56]\n"
     ]
    }
   ],
   "source": [
    "x = [23,45,67,89,56,78,67,56,23]\n",
    "def age(x):\n",
    "    if x>50:\n",
    "        return True\n",
    "#         print(\"Adult\")\n",
    "    else:\n",
    "        return False\n",
    "#         print(\"Child\")\n",
    "c = list(filter(age,x))\n",
    "print(c)\n",
    "    "
   ]
  },
  {
   "cell_type": "code",
   "execution_count": 46,
   "id": "597f5edd",
   "metadata": {},
   "outputs": [
    {
     "data": {
      "text/plain": [
       "[67, 89, 56, 78, 67, 56]"
      ]
     },
     "execution_count": 46,
     "metadata": {},
     "output_type": "execute_result"
    }
   ],
   "source": [
    "c"
   ]
  },
  {
   "cell_type": "code",
   "execution_count": 47,
   "id": "2dc1eb3b",
   "metadata": {},
   "outputs": [],
   "source": [
    "c.append(100)"
   ]
  },
  {
   "cell_type": "code",
   "execution_count": 48,
   "id": "34325984",
   "metadata": {},
   "outputs": [
    {
     "data": {
      "text/plain": [
       "[67, 89, 56, 78, 67, 56, 100]"
      ]
     },
     "execution_count": 48,
     "metadata": {},
     "output_type": "execute_result"
    }
   ],
   "source": [
    "c"
   ]
  },
  {
   "cell_type": "code",
   "execution_count": 49,
   "id": "4dc8ba68",
   "metadata": {},
   "outputs": [],
   "source": [
    "c.insert(3,222)"
   ]
  },
  {
   "cell_type": "code",
   "execution_count": 50,
   "id": "ea7c1269",
   "metadata": {},
   "outputs": [
    {
     "data": {
      "text/plain": [
       "[67, 89, 56, 222, 78, 67, 56, 100]"
      ]
     },
     "execution_count": 50,
     "metadata": {},
     "output_type": "execute_result"
    }
   ],
   "source": [
    "c"
   ]
  },
  {
   "cell_type": "code",
   "execution_count": 51,
   "id": "706c8d82",
   "metadata": {},
   "outputs": [
    {
     "name": "stdout",
     "output_type": "stream",
     "text": [
      "[67, 89, 56, 78, 67, 56]\n"
     ]
    }
   ],
   "source": [
    "x = [23,45,67,89,56,78,67,56,23]\n",
    "def age(x):\n",
    "    if x>50:\n",
    "        return True\n",
    "#         print(\"Adult\")\n",
    "    else:\n",
    "        return False\n",
    "#         print(\"Child\")\n",
    "c = list(filter(age,x))\n",
    "print(c)\n",
    "    "
   ]
  },
  {
   "cell_type": "code",
   "execution_count": 53,
   "id": "6766d28e",
   "metadata": {},
   "outputs": [
    {
     "data": {
      "text/plain": [
       "[67, 89, 56, 78, 67, 56]"
      ]
     },
     "execution_count": 53,
     "metadata": {},
     "output_type": "execute_result"
    }
   ],
   "source": [
    "x = [23,45,67,89,56,78,67,56,23]\n",
    "z = list(filter(lambda a:a>50,x)) \n",
    "z"
   ]
  },
  {
   "cell_type": "code",
   "execution_count": 54,
   "id": "b47a1ed3",
   "metadata": {},
   "outputs": [
    {
     "data": {
      "text/plain": [
       "[2, 6, 8]"
      ]
     },
     "execution_count": 54,
     "metadata": {},
     "output_type": "execute_result"
    }
   ],
   "source": [
    "#wap to find odd & even number with the help of normal fun & lambda funct.\n",
    "x = [2,5,6,9,8]\n",
    "def even(x):\n",
    "    if x%2==0:\n",
    "        return True\n",
    "    else:\n",
    "        return False\n",
    "even_num = list(filter(even,x))\n",
    "even_num"
   ]
  },
  {
   "cell_type": "code",
   "execution_count": 56,
   "id": "a6e382f1",
   "metadata": {},
   "outputs": [
    {
     "data": {
      "text/plain": [
       "[2, 6, 8]"
      ]
     },
     "execution_count": 56,
     "metadata": {},
     "output_type": "execute_result"
    }
   ],
   "source": [
    "s = list(filter(lambda a:a%2==0,x))\n",
    "s"
   ]
  },
  {
   "cell_type": "code",
   "execution_count": 57,
   "id": "1a1bf450",
   "metadata": {},
   "outputs": [
    {
     "data": {
      "text/plain": [
       "[2, 6, 8]"
      ]
     },
     "execution_count": 57,
     "metadata": {},
     "output_type": "execute_result"
    }
   ],
   "source": [
    "#map function\n",
    "s"
   ]
  },
  {
   "cell_type": "code",
   "execution_count": 60,
   "id": "b87a1c85",
   "metadata": {},
   "outputs": [
    {
     "name": "stdout",
     "output_type": "stream",
     "text": [
      "[4, 36, 64]\n"
     ]
    }
   ],
   "source": [
    "print(list(map(lambda a:a**2,s)))\n",
    "# mapping"
   ]
  },
  {
   "cell_type": "code",
   "execution_count": 61,
   "id": "7b33811a",
   "metadata": {},
   "outputs": [
    {
     "data": {
      "text/plain": [
       "20"
      ]
     },
     "execution_count": 61,
     "metadata": {},
     "output_type": "execute_result"
    }
   ],
   "source": [
    "c = lambda x:x+15\n",
    "c(5)\n"
   ]
  },
  {
   "cell_type": "code",
   "execution_count": null,
   "id": "2137cd17",
   "metadata": {},
   "outputs": [],
   "source": []
  }
 ],
 "metadata": {
  "kernelspec": {
   "display_name": "Python 3 (ipykernel)",
   "language": "python",
   "name": "python3"
  },
  "language_info": {
   "codemirror_mode": {
    "name": "ipython",
    "version": 3
   },
   "file_extension": ".py",
   "mimetype": "text/x-python",
   "name": "python",
   "nbconvert_exporter": "python",
   "pygments_lexer": "ipython3",
   "version": "3.9.7"
  }
 },
 "nbformat": 4,
 "nbformat_minor": 5
}
