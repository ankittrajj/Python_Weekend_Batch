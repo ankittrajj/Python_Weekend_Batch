{
 "cells": [
  {
   "cell_type": "code",
   "execution_count": 1,
   "id": "26b39cc9",
   "metadata": {},
   "outputs": [
    {
     "name": "stdout",
     "output_type": "stream",
     "text": [
      "Ram\n"
     ]
    }
   ],
   "source": [
    "#string -----> collections of charcters\n",
    "a = 'Ram'\n",
    "print(a)"
   ]
  },
  {
   "cell_type": "code",
   "execution_count": 2,
   "id": "925ff555",
   "metadata": {},
   "outputs": [
    {
     "data": {
      "text/plain": [
       "str"
      ]
     },
     "execution_count": 2,
     "metadata": {},
     "output_type": "execute_result"
    }
   ],
   "source": [
    "type(a)"
   ]
  },
  {
   "cell_type": "code",
   "execution_count": 3,
   "id": "5f77272f",
   "metadata": {},
   "outputs": [
    {
     "name": "stdout",
     "output_type": "stream",
     "text": [
      "123\n"
     ]
    }
   ],
   "source": [
    "a = '123'\n",
    "print(a)"
   ]
  },
  {
   "cell_type": "code",
   "execution_count": 4,
   "id": "fc70027f",
   "metadata": {},
   "outputs": [
    {
     "data": {
      "text/plain": [
       "str"
      ]
     },
     "execution_count": 4,
     "metadata": {},
     "output_type": "execute_result"
    }
   ],
   "source": [
    "type(a)"
   ]
  },
  {
   "cell_type": "code",
   "execution_count": 5,
   "id": "ceb100ef",
   "metadata": {},
   "outputs": [],
   "source": [
    "a = '####^&&789aniit'"
   ]
  },
  {
   "cell_type": "code",
   "execution_count": 6,
   "id": "b4c81b2d",
   "metadata": {},
   "outputs": [
    {
     "name": "stdout",
     "output_type": "stream",
     "text": [
      "####^&&789aniit\n"
     ]
    }
   ],
   "source": [
    "print(a)"
   ]
  },
  {
   "cell_type": "code",
   "execution_count": 7,
   "id": "2cbba9ef",
   "metadata": {},
   "outputs": [
    {
     "data": {
      "text/plain": [
       "str"
      ]
     },
     "execution_count": 7,
     "metadata": {},
     "output_type": "execute_result"
    }
   ],
   "source": [
    "type(a)"
   ]
  },
  {
   "cell_type": "code",
   "execution_count": 8,
   "id": "2c11ccec",
   "metadata": {},
   "outputs": [],
   "source": [
    "s = 'hello bhai kaise ho'"
   ]
  },
  {
   "cell_type": "code",
   "execution_count": 12,
   "id": "24ba5a9b",
   "metadata": {},
   "outputs": [
    {
     "name": "stdout",
     "output_type": "stream",
     "text": [
      "h\n"
     ]
    }
   ],
   "source": [
    "# Slicing\n",
    "print(s[0])"
   ]
  },
  {
   "cell_type": "code",
   "execution_count": 13,
   "id": "35b7f089",
   "metadata": {},
   "outputs": [
    {
     "data": {
      "text/plain": [
       "'l'"
      ]
     },
     "execution_count": 13,
     "metadata": {},
     "output_type": "execute_result"
    }
   ],
   "source": [
    "s[2]"
   ]
  },
  {
   "cell_type": "code",
   "execution_count": 14,
   "id": "ec9c494e",
   "metadata": {},
   "outputs": [
    {
     "data": {
      "text/plain": [
       "'b'"
      ]
     },
     "execution_count": 14,
     "metadata": {},
     "output_type": "execute_result"
    }
   ],
   "source": [
    "s[6]"
   ]
  },
  {
   "cell_type": "code",
   "execution_count": 15,
   "id": "743df22c",
   "metadata": {},
   "outputs": [
    {
     "data": {
      "text/plain": [
       "'hello bhai kaise ho'"
      ]
     },
     "execution_count": 15,
     "metadata": {},
     "output_type": "execute_result"
    }
   ],
   "source": [
    "s"
   ]
  },
  {
   "cell_type": "code",
   "execution_count": 18,
   "id": "d894017d",
   "metadata": {},
   "outputs": [
    {
     "name": "stdout",
     "output_type": "stream",
     "text": [
      "hello\n"
     ]
    }
   ],
   "source": [
    "print(s[0:5])"
   ]
  },
  {
   "cell_type": "code",
   "execution_count": 19,
   "id": "6dedc51a",
   "metadata": {},
   "outputs": [
    {
     "data": {
      "text/plain": [
       "'hello bhai'"
      ]
     },
     "execution_count": 19,
     "metadata": {},
     "output_type": "execute_result"
    }
   ],
   "source": [
    "s[0:10]"
   ]
  },
  {
   "cell_type": "code",
   "execution_count": 20,
   "id": "fa39a902",
   "metadata": {},
   "outputs": [
    {
     "data": {
      "text/plain": [
       "'hello bhai kaise ho'"
      ]
     },
     "execution_count": 20,
     "metadata": {},
     "output_type": "execute_result"
    }
   ],
   "source": [
    "s"
   ]
  },
  {
   "cell_type": "code",
   "execution_count": 22,
   "id": "e00a4620",
   "metadata": {},
   "outputs": [
    {
     "data": {
      "text/plain": [
       "'hello bhai kaise ho'"
      ]
     },
     "execution_count": 22,
     "metadata": {},
     "output_type": "execute_result"
    }
   ],
   "source": [
    "s[0:]"
   ]
  },
  {
   "cell_type": "code",
   "execution_count": 23,
   "id": "d8b9c1d8",
   "metadata": {},
   "outputs": [
    {
     "data": {
      "text/plain": [
       "'hello bhai kaise ho'"
      ]
     },
     "execution_count": 23,
     "metadata": {},
     "output_type": "execute_result"
    }
   ],
   "source": [
    "s[::]"
   ]
  },
  {
   "cell_type": "code",
   "execution_count": 24,
   "id": "eea58c5c",
   "metadata": {},
   "outputs": [
    {
     "data": {
      "text/plain": [
       "'hello bhai kaise ho'"
      ]
     },
     "execution_count": 24,
     "metadata": {},
     "output_type": "execute_result"
    }
   ],
   "source": [
    "s"
   ]
  },
  {
   "cell_type": "code",
   "execution_count": 25,
   "id": "73be3484",
   "metadata": {},
   "outputs": [
    {
     "data": {
      "text/plain": [
       "'o'"
      ]
     },
     "execution_count": 25,
     "metadata": {},
     "output_type": "execute_result"
    }
   ],
   "source": [
    "s[-1]"
   ]
  },
  {
   "cell_type": "code",
   "execution_count": 26,
   "id": "8888aa3a",
   "metadata": {},
   "outputs": [
    {
     "data": {
      "text/plain": [
       "''"
      ]
     },
     "execution_count": 26,
     "metadata": {},
     "output_type": "execute_result"
    }
   ],
   "source": [
    "s[-1:-9]"
   ]
  },
  {
   "cell_type": "code",
   "execution_count": 29,
   "id": "c47a424a",
   "metadata": {},
   "outputs": [
    {
     "data": {
      "text/plain": [
       "' kaise ho'"
      ]
     },
     "execution_count": 29,
     "metadata": {},
     "output_type": "execute_result"
    }
   ],
   "source": [
    "s[-9:]"
   ]
  },
  {
   "cell_type": "code",
   "execution_count": 30,
   "id": "c92b57b2",
   "metadata": {},
   "outputs": [],
   "source": [
    "a = \"I am a creature\""
   ]
  },
  {
   "cell_type": "code",
   "execution_count": 32,
   "id": "f56bec4a",
   "metadata": {},
   "outputs": [
    {
     "data": {
      "text/plain": [
       "'I '"
      ]
     },
     "execution_count": 32,
     "metadata": {},
     "output_type": "execute_result"
    }
   ],
   "source": [
    "a[:2:]"
   ]
  },
  {
   "cell_type": "code",
   "execution_count": 44,
   "id": "c0b478ed",
   "metadata": {},
   "outputs": [
    {
     "data": {
      "text/plain": [
       "'Ia  raue'"
      ]
     },
     "execution_count": 44,
     "metadata": {},
     "output_type": "execute_result"
    }
   ],
   "source": [
    "a[0:16:2]"
   ]
  },
  {
   "cell_type": "code",
   "execution_count": 51,
   "id": "0d48095d",
   "metadata": {},
   "outputs": [
    {
     "name": "stdout",
     "output_type": "stream",
     "text": [
      "-40\n",
      "-38\n",
      "-36\n",
      "-34\n",
      "-32\n",
      "-30\n",
      "-28\n",
      "-26\n",
      "-24\n",
      "-22\n",
      "-20\n",
      "-18\n",
      "-16\n",
      "-14\n",
      "-12\n",
      "-10\n",
      "-8\n",
      "-6\n",
      "-4\n",
      "-2\n",
      "0\n",
      "2\n",
      "4\n",
      "6\n",
      "8\n"
     ]
    }
   ],
   "source": [
    "#loop \n",
    "# for loop & while loop\n",
    "for i in range(-40,10,2):\n",
    "    print(i)"
   ]
  },
  {
   "cell_type": "code",
   "execution_count": 53,
   "id": "05d8c8b3",
   "metadata": {},
   "outputs": [
    {
     "name": "stdout",
     "output_type": "stream",
     "text": [
      "10\n",
      "12\n",
      "14\n",
      "16\n",
      "18\n",
      "20\n",
      "22\n",
      "24\n",
      "26\n",
      "28\n",
      "30\n",
      "32\n",
      "34\n",
      "36\n",
      "38\n",
      "40\n",
      "42\n",
      "44\n",
      "46\n",
      "48\n",
      "50\n"
     ]
    }
   ],
   "source": [
    "for i in range(10,51,2):\n",
    "    print(i)"
   ]
  },
  {
   "cell_type": "code",
   "execution_count": 54,
   "id": "b41a260c",
   "metadata": {},
   "outputs": [
    {
     "name": "stdout",
     "output_type": "stream",
     "text": [
      "11\n",
      "13\n",
      "15\n",
      "17\n",
      "19\n",
      "21\n",
      "23\n",
      "25\n",
      "27\n",
      "29\n",
      "31\n",
      "33\n",
      "35\n",
      "37\n",
      "39\n",
      "41\n",
      "43\n",
      "45\n",
      "47\n",
      "49\n"
     ]
    }
   ],
   "source": [
    "for x in range(11,51,2):\n",
    "    print(x)"
   ]
  },
  {
   "cell_type": "code",
   "execution_count": 55,
   "id": "6ef489d8",
   "metadata": {},
   "outputs": [
    {
     "name": "stdout",
     "output_type": "stream",
     "text": [
      "10 Even\n",
      "11 Odd\n",
      "12 Even\n",
      "13 Odd\n",
      "14 Even\n",
      "15 Odd\n",
      "16 Even\n",
      "17 Odd\n",
      "18 Even\n",
      "19 Odd\n",
      "20 Even\n",
      "21 Odd\n",
      "22 Even\n",
      "23 Odd\n",
      "24 Even\n",
      "25 Odd\n",
      "26 Even\n",
      "27 Odd\n",
      "28 Even\n",
      "29 Odd\n",
      "30 Even\n",
      "31 Odd\n",
      "32 Even\n",
      "33 Odd\n",
      "34 Even\n",
      "35 Odd\n",
      "36 Even\n",
      "37 Odd\n",
      "38 Even\n",
      "39 Odd\n",
      "40 Even\n",
      "41 Odd\n",
      "42 Even\n",
      "43 Odd\n",
      "44 Even\n",
      "45 Odd\n",
      "46 Even\n",
      "47 Odd\n",
      "48 Even\n",
      "49 Odd\n",
      "50 Even\n"
     ]
    }
   ],
   "source": [
    "for i in range(10,51):\n",
    "    if i%2==0:\n",
    "        print(i,'Even')\n",
    "    else:\n",
    "        print(i,'Odd')"
   ]
  },
  {
   "cell_type": "code",
   "execution_count": 56,
   "id": "3a255414",
   "metadata": {},
   "outputs": [
    {
     "name": "stdout",
     "output_type": "stream",
     "text": [
      "11 Odd\n",
      "13 Odd\n",
      "15 Odd\n",
      "17 Odd\n",
      "19 Odd\n",
      "21 Odd\n",
      "23 Odd\n",
      "25 Odd\n",
      "27 Odd\n",
      "29 Odd\n",
      "31 Odd\n",
      "33 Odd\n",
      "35 Odd\n",
      "37 Odd\n",
      "39 Odd\n",
      "41 Odd\n",
      "43 Odd\n",
      "45 Odd\n",
      "47 Odd\n",
      "49 Odd\n"
     ]
    }
   ],
   "source": [
    "for i in range(10,51):\n",
    "    if i%2!=0:\n",
    "        print(i,'Odd')\n",
    "#     else:\n",
    "#         print(i,'Odd')"
   ]
  },
  {
   "cell_type": "code",
   "execution_count": 58,
   "id": "66dfa928",
   "metadata": {},
   "outputs": [
    {
     "name": "stdout",
     "output_type": "stream",
     "text": [
      "What is your salary1000\n",
      "Tell your working tenure3\n",
      "You are new bro\n"
     ]
    }
   ],
   "source": [
    "salary = int(input(\"What is your salary\"))\n",
    "total_years = int(input(\"Tell your working tenure\"))\n",
    "if total_years>5:\n",
    "#     print(\"Duration is more than 5 years\")\n",
    "    bonus = salary+(salary*5/100)\n",
    "    print(bonus)\n",
    "else:\n",
    "    print(\"You are new bro\")"
   ]
  },
  {
   "cell_type": "code",
   "execution_count": null,
   "id": "397a9763",
   "metadata": {},
   "outputs": [],
   "source": []
  }
 ],
 "metadata": {
  "kernelspec": {
   "display_name": "Python 3",
   "language": "python",
   "name": "python3"
  },
  "language_info": {
   "codemirror_mode": {
    "name": "ipython",
    "version": 3
   },
   "file_extension": ".py",
   "mimetype": "text/x-python",
   "name": "python",
   "nbconvert_exporter": "python",
   "pygments_lexer": "ipython3",
   "version": "3.8.8"
  }
 },
 "nbformat": 4,
 "nbformat_minor": 5
}
