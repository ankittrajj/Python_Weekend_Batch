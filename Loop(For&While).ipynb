{
 "cells": [
  {
   "cell_type": "code",
   "execution_count": 8,
   "id": "d71169d2",
   "metadata": {},
   "outputs": [
    {
     "name": "stdout",
     "output_type": "stream",
     "text": [
      "1\n",
      "2\n",
      "3\n",
      "4\n",
      "5\n",
      "6\n",
      "7\n",
      "8\n",
      "9\n",
      "10\n",
      "11\n"
     ]
    }
   ],
   "source": [
    "#while loop\n",
    "# init\n",
    "a = 1\n",
    "# condition\n",
    "while (a<=11):\n",
    "#     a=a+1\n",
    "    print(a)\n",
    "#     a=a+1\n",
    "    a+=1"
   ]
  },
  {
   "cell_type": "code",
   "execution_count": 9,
   "id": "9b3f4e96",
   "metadata": {},
   "outputs": [
    {
     "name": "stdout",
     "output_type": "stream",
     "text": [
      "55\n"
     ]
    }
   ],
   "source": [
    "# Calculate the sum of all numbers from 1 to a 10 number.\n",
    "sum =0 \n",
    "a=1\n",
    "while(a<11):\n",
    "    sum = sum+a\n",
    "    a+=1\n",
    "print(sum)\n"
   ]
  },
  {
   "cell_type": "code",
   "execution_count": 12,
   "id": "fde39303",
   "metadata": {},
   "outputs": [
    {
     "name": "stdout",
     "output_type": "stream",
     "text": [
      "2\n",
      "4\n",
      "6\n",
      "8\n",
      "10\n",
      "12\n",
      "14\n",
      "16\n",
      "18\n",
      "20\n"
     ]
    }
   ],
   "source": [
    "# Write a program to print multiplication table of a \n",
    "# given number.\n",
    "a = 2\n",
    "while (a<21):\n",
    "    print(a)\n",
    "    a+=2"
   ]
  },
  {
   "cell_type": "code",
   "execution_count": 13,
   "id": "704bdaea",
   "metadata": {},
   "outputs": [
    {
     "name": "stdout",
     "output_type": "stream",
     "text": [
      "10886400\n"
     ]
    }
   ],
   "source": [
    "# Calculate the sum of all numbers from 1 to a 10 number.\n",
    "sum =3\n",
    "a=1\n",
    "while(a<11):\n",
    "    sum = sum*a\n",
    "    a+=1\n",
    "print(sum)"
   ]
  },
  {
   "cell_type": "code",
   "execution_count": 15,
   "id": "bde78d2e",
   "metadata": {},
   "outputs": [
    {
     "name": "stdout",
     "output_type": "stream",
     "text": [
      "0\n",
      "3\n",
      "6\n",
      "9\n"
     ]
    }
   ],
   "source": [
    "for i in range(0,11,3):\n",
    "    print(i)"
   ]
  },
  {
   "cell_type": "code",
   "execution_count": 21,
   "id": "3d8399bf",
   "metadata": {},
   "outputs": [
    {
     "name": "stdout",
     "output_type": "stream",
     "text": [
      "enter the number5\n",
      "5\n",
      "10\n",
      "15\n",
      "20\n",
      "25\n",
      "30\n",
      "35\n",
      "40\n",
      "45\n",
      "50\n"
     ]
    }
   ],
   "source": [
    "a = int (input(\"enter the number\"))\n",
    "for i in range(1,11):\n",
    "#     a=a*i\n",
    "    print(a*i)"
   ]
  },
  {
   "cell_type": "code",
   "execution_count": 24,
   "id": "34838e16",
   "metadata": {},
   "outputs": [
    {
     "name": "stdout",
     "output_type": "stream",
     "text": [
      "10 20\n"
     ]
    }
   ],
   "source": [
    "a =20\n",
    "b=10\n",
    "c=a\n",
    "a=b\n",
    "b=c\n",
    "print(a,b)"
   ]
  },
  {
   "cell_type": "code",
   "execution_count": 29,
   "id": "4e110bef",
   "metadata": {},
   "outputs": [
    {
     "name": "stdout",
     "output_type": "stream",
     "text": [
      "10 2\n",
      "2 10\n"
     ]
    }
   ],
   "source": [
    "a=10\n",
    "b=2\n",
    "print(a,b)\n",
    "# a=b,b=a\n",
    "a,b=b,a\n",
    "print(a,b)"
   ]
  },
  {
   "cell_type": "code",
   "execution_count": 30,
   "id": "de9217dc",
   "metadata": {},
   "outputs": [
    {
     "name": "stdout",
     "output_type": "stream",
     "text": [
      "89\n"
     ]
    }
   ],
   "source": [
    "a=10\n",
    "b=9\n",
    "c=89\n",
    "if (a>b) and (a>c):\n",
    "    print(a)\n",
    "elif (b>c) and (b>a):\n",
    "    print(b)\n",
    "else:\n",
    "    print(c)\n",
    "    "
   ]
  },
  {
   "cell_type": "code",
   "execution_count": null,
   "id": "cc34f764",
   "metadata": {},
   "outputs": [],
   "source": []
  }
 ],
 "metadata": {
  "kernelspec": {
   "display_name": "Python 3",
   "language": "python",
   "name": "python3"
  },
  "language_info": {
   "codemirror_mode": {
    "name": "ipython",
    "version": 3
   },
   "file_extension": ".py",
   "mimetype": "text/x-python",
   "name": "python",
   "nbconvert_exporter": "python",
   "pygments_lexer": "ipython3",
   "version": "3.8.8"
  }
 },
 "nbformat": 4,
 "nbformat_minor": 5
}
