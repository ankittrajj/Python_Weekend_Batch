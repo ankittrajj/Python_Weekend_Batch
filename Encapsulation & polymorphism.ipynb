{
 "cells": [
  {
   "cell_type": "code",
   "execution_count": 1,
   "id": "a11c0e75",
   "metadata": {},
   "outputs": [
    {
     "name": "stdout",
     "output_type": "stream",
     "text": [
      "5\n"
     ]
    }
   ],
   "source": [
    "# Poly----> Many Morph-----> forms\n",
    "# 1.Overloading\n",
    "# 2.Overridding\n",
    "\n",
    "# Overloading----> function same but signautre different.\n",
    "# 1.Operator overloading\n",
    "# 2. Method overloading\n",
    "a=2\n",
    "b=3\n",
    "c=a+b\n",
    "print(c)"
   ]
  },
  {
   "cell_type": "code",
   "execution_count": 2,
   "id": "5334a559",
   "metadata": {},
   "outputs": [
    {
     "name": "stdout",
     "output_type": "stream",
     "text": [
      "23\n"
     ]
    }
   ],
   "source": [
    "a='2'\n",
    "b='3'\n",
    "c=a+b\n",
    "print(c)"
   ]
  },
  {
   "cell_type": "code",
   "execution_count": 15,
   "id": "658940ef",
   "metadata": {},
   "outputs": [
    {
     "data": {
      "text/plain": [
       "(20, 45)"
      ]
     },
     "execution_count": 15,
     "metadata": {},
     "output_type": "execute_result"
    }
   ],
   "source": [
    "#method overloading\n",
    "class me:\n",
    "    def info(self,a=20,b=45):\n",
    "#         pass\n",
    "        return (a,b)\n",
    "        \n",
    "x = me()\n",
    "x.info()\n",
    "# x.info(2)\n",
    "# x.info(2,5)"
   ]
  },
  {
   "cell_type": "code",
   "execution_count": 40,
   "id": "2ffed070",
   "metadata": {},
   "outputs": [
    {
     "name": "stdout",
     "output_type": "stream",
     "text": [
      "90 10\n"
     ]
    },
    {
     "ename": "AttributeError",
     "evalue": "'me' object has no attribute 'detail'",
     "output_type": "error",
     "traceback": [
      "\u001b[1;31m---------------------------------------------------------------------------\u001b[0m",
      "\u001b[1;31mAttributeError\u001b[0m                            Traceback (most recent call last)",
      "\u001b[1;32m<ipython-input-40-f257ec1c744e>\u001b[0m in \u001b[0;36m<module>\u001b[1;34m\u001b[0m\n\u001b[0;32m     15\u001b[0m \u001b[0ms\u001b[0m \u001b[1;33m=\u001b[0m \u001b[0mme\u001b[0m\u001b[1;33m(\u001b[0m\u001b[1;33m)\u001b[0m\u001b[1;33m\u001b[0m\u001b[1;33m\u001b[0m\u001b[0m\n\u001b[0;32m     16\u001b[0m \u001b[0ms\u001b[0m\u001b[1;33m.\u001b[0m\u001b[0minfo\u001b[0m\u001b[1;33m(\u001b[0m\u001b[1;36m90\u001b[0m\u001b[1;33m,\u001b[0m\u001b[1;36m10\u001b[0m\u001b[1;33m)\u001b[0m\u001b[1;33m\u001b[0m\u001b[1;33m\u001b[0m\u001b[0m\n\u001b[1;32m---> 17\u001b[1;33m \u001b[0ms\u001b[0m\u001b[1;33m.\u001b[0m\u001b[0mdetail\u001b[0m\u001b[1;33m(\u001b[0m\u001b[1;36m12\u001b[0m\u001b[1;33m,\u001b[0m\u001b[1;36m89\u001b[0m\u001b[1;33m)\u001b[0m\u001b[1;33m\u001b[0m\u001b[1;33m\u001b[0m\u001b[0m\n\u001b[0m\u001b[0;32m     18\u001b[0m \u001b[1;33m\u001b[0m\u001b[0m\n\u001b[0;32m     19\u001b[0m \u001b[1;33m\u001b[0m\u001b[0m\n",
      "\u001b[1;31mAttributeError\u001b[0m: 'me' object has no attribute 'detail'"
     ]
    }
   ],
   "source": [
    "#Encapsulation-----> code wrap up,code hide---> user\n",
    "#public \n",
    "#private\n",
    "\n",
    "class me:\n",
    "    def info(self,y,z):\n",
    "#         z=90\n",
    "#         __y=10\n",
    "        print(y,z)\n",
    "    def __detail(self,y,z):\n",
    "#         z=90\n",
    "#         __y=10\n",
    "        print(y,z)\n",
    "        \n",
    "s = me()\n",
    "s.info(90,10)\n",
    "s.detail(12,89)\n",
    "        \n",
    "        \n",
    "        "
   ]
  },
  {
   "cell_type": "code",
   "execution_count": 33,
   "id": "a40cbbb3",
   "metadata": {},
   "outputs": [
    {
     "name": "stdout",
     "output_type": "stream",
     "text": [
      "2 3\n"
     ]
    },
    {
     "ename": "AttributeError",
     "evalue": "'me' object has no attribute 'detail'",
     "output_type": "error",
     "traceback": [
      "\u001b[1;31m---------------------------------------------------------------------------\u001b[0m",
      "\u001b[1;31mAttributeError\u001b[0m                            Traceback (most recent call last)",
      "\u001b[1;32m<ipython-input-33-555a58a1f66d>\u001b[0m in \u001b[0;36m<module>\u001b[1;34m\u001b[0m\n\u001b[0;32m      8\u001b[0m \u001b[0ms\u001b[0m \u001b[1;33m=\u001b[0m \u001b[0mme\u001b[0m\u001b[1;33m(\u001b[0m\u001b[1;33m)\u001b[0m\u001b[1;33m\u001b[0m\u001b[1;33m\u001b[0m\u001b[0m\n\u001b[0;32m      9\u001b[0m \u001b[0ms\u001b[0m\u001b[1;33m.\u001b[0m\u001b[0minfo\u001b[0m\u001b[1;33m(\u001b[0m\u001b[1;36m2\u001b[0m\u001b[1;33m,\u001b[0m\u001b[1;36m3\u001b[0m\u001b[1;33m)\u001b[0m\u001b[1;33m\u001b[0m\u001b[1;33m\u001b[0m\u001b[0m\n\u001b[1;32m---> 10\u001b[1;33m \u001b[0ms\u001b[0m\u001b[1;33m.\u001b[0m\u001b[0mdetail\u001b[0m\u001b[1;33m(\u001b[0m\u001b[1;36m20\u001b[0m\u001b[1;33m,\u001b[0m\u001b[1;36m34\u001b[0m\u001b[1;33m)\u001b[0m\u001b[1;33m\u001b[0m\u001b[1;33m\u001b[0m\u001b[0m\n\u001b[0m",
      "\u001b[1;31mAttributeError\u001b[0m: 'me' object has no attribute 'detail'"
     ]
    }
   ],
   "source": [
    "class me:\n",
    "    def info(self,y,z):\n",
    "        print(y,z)\n",
    "    \n",
    "    def __detail(self,a,d):\n",
    "        print(a,d)\n",
    "        \n",
    "s = me()\n",
    "s.info(2,3)\n",
    "s.detail(20,34)"
   ]
  },
  {
   "cell_type": "code",
   "execution_count": 32,
   "id": "6f8e7a13",
   "metadata": {},
   "outputs": [
    {
     "name": "stdout",
     "output_type": "stream",
     "text": [
      "56 78\n"
     ]
    }
   ],
   "source": [
    "s.info(56,78)"
   ]
  },
  {
   "cell_type": "code",
   "execution_count": 55,
   "id": "e52c4973",
   "metadata": {},
   "outputs": [
    {
     "name": "stdout",
     "output_type": "stream",
     "text": [
      "hello peter\n",
      "Turbo engine\n"
     ]
    }
   ],
   "source": [
    "#Abstraction---> to hide the implementation of particular code from the user is called abstraction\n",
    "from abc import ABC,abstractmethod\n",
    "class car():\n",
    "#     @abstractmethod\n",
    "    def detail(self):\n",
    "        print('hello peter')\n",
    "class car2(ABC):\n",
    "    @abstractmethod\n",
    "    def info(self):\n",
    "        print('hello peter2')\n",
    "class engine(car):\n",
    "    def details(self):\n",
    "        print('Turbo engine')\n",
    "        \n",
    "e = engine()\n",
    "e.detail()\n",
    "# e.info()\n",
    "e.details()\n"
   ]
  },
  {
   "cell_type": "code",
   "execution_count": 56,
   "id": "d70c3b2e",
   "metadata": {},
   "outputs": [
    {
     "name": "stdout",
     "output_type": "stream",
     "text": [
      "hello peter\n"
     ]
    }
   ],
   "source": [
    "e.detail()"
   ]
  },
  {
   "cell_type": "code",
   "execution_count": 57,
   "id": "df10d696",
   "metadata": {},
   "outputs": [
    {
     "data": {
      "text/plain": [
       "6"
      ]
     },
     "execution_count": 57,
     "metadata": {},
     "output_type": "execute_result"
    }
   ],
   "source": [
    "#advance function--- lambda function\n",
    "def add(a,b):\n",
    "    c= a+b\n",
    "    return c\n",
    "add(2,4)\n",
    "    "
   ]
  },
  {
   "cell_type": "code",
   "execution_count": 62,
   "id": "5824ffb3",
   "metadata": {},
   "outputs": [
    {
     "data": {
      "text/plain": [
       "5"
      ]
     },
     "execution_count": 62,
     "metadata": {},
     "output_type": "execute_result"
    }
   ],
   "source": [
    "#lambda function\n",
    "l = lambda x,y:x+y\n",
    "l(2,3)\n",
    "\n",
    "\n",
    "# l---> high order function"
   ]
  },
  {
   "cell_type": "code",
   "execution_count": 65,
   "id": "8cd397ff",
   "metadata": {},
   "outputs": [
    {
     "name": "stdout",
     "output_type": "stream",
     "text": [
      "36\n"
     ]
    }
   ],
   "source": [
    "# Wap to find square of a number\n",
    "# wap to find cube of a number\n",
    "\n",
    "f= lambda x=20 : x**2\n",
    "print(f(6))\n"
   ]
  },
  {
   "cell_type": "code",
   "execution_count": 71,
   "id": "4f77496a",
   "metadata": {},
   "outputs": [
    {
     "data": {
      "text/plain": [
       "81"
      ]
     },
     "execution_count": 71,
     "metadata": {},
     "output_type": "execute_result"
    }
   ],
   "source": [
    "l=lambda a:a**3\n",
    "l(9)"
   ]
  },
  {
   "cell_type": "code",
   "execution_count": 75,
   "id": "d370fae0",
   "metadata": {},
   "outputs": [
    {
     "name": "stdout",
     "output_type": "stream",
     "text": [
      "400\n"
     ]
    }
   ],
   "source": [
    "l=lambda x : x**2\n",
    "print(l(20))\n"
   ]
  },
  {
   "cell_type": "code",
   "execution_count": null,
   "id": "d49721b3",
   "metadata": {},
   "outputs": [],
   "source": []
  }
 ],
 "metadata": {
  "kernelspec": {
   "display_name": "Python 3",
   "language": "python",
   "name": "python3"
  },
  "language_info": {
   "codemirror_mode": {
    "name": "ipython",
    "version": 3
   },
   "file_extension": ".py",
   "mimetype": "text/x-python",
   "name": "python",
   "nbconvert_exporter": "python",
   "pygments_lexer": "ipython3",
   "version": "3.8.8"
  }
 },
 "nbformat": 4,
 "nbformat_minor": 5
}
